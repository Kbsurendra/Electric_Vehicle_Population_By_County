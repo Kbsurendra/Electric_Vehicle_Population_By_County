{
 "cells": [
  {
   "cell_type": "code",
   "execution_count": null,
   "id": "f16506d8",
   "metadata": {},
   "outputs": [
    {
     "name": "stdout",
     "output_type": "stream",
     "text": [
      "📍 Available Counties:\n",
      "Ada, Adams, Alameda, Albemarle, Alexandria, Allegheny, Allen, Anchorage, Anne Arundel, Arapahoe, Arlington, Atlantic, Autauga, Baltimore, Bartow, Beaufort, Bell, Bergen, Berkeley, Berkshire, Bexar, Boone, Boulder, Bradley, Brevard, Broward, Bryan, Bucks, Burlington, Caddo, Calvert, Camden, Canyon, Carroll, Carson City, Cascade, Champaign, Charles, Charleston, Charlottesville, Chesapeake, Clackamas, Clay, Clinton, Cobb, Cochise, Collier, Collin, Columbia, Contra Costa, Cook, Coryell, Cumberland, Currituck, Dakota, Dale, Dallas, Dane, Danville, DeKalb, Denton, Denver, Deschutes, District of Columbia, Dorchester, Douglas, DuPage, Duval, Eagle, Eau Claire, El Dorado, El Paso, Escambia, Essex, Fairbanks North Star, Fairfax, Flathead, Fort Bend, Franklin, Frederick, Fresno, Fulton, Galveston, Garfield, Geary, Goochland, Greene, Guadalupe, Gwinnett, Hamilton, Hampshire, Hardin, Harford, Harnett, Harris, Harrison, Hawaii, Hennepin, Henrico, Hillsborough, Honolulu, Houston, Howard, Hudson, Jackson, James City, Jefferson, Jones, Juneau, Kalamazoo, Kauai, Kent, Kern, Kings, Klamath, Kootenai, Lake, Lane, Laramie, Larimer, Las Animas, Latah, Leavenworth, Lee, Lewis, Lincoln, Los Angeles, Loudoun, Louisa, Lumpkin, Madison, Manassas, Manatee, Maricopa, Marin, Marion, Maui, Meade, Mecklenburg, Mercer, Miami-Dade, Middlesex, Milwaukee, Missoula, Mobile, Monroe, Monterey, Montgomery, Moore, Morris, Multnomah, Muscogee, Nantucket, Napa, Nassau, New Haven, New London, New York, Newport, Newport News, Norfolk, Northampton, Nueces, Okaloosa, Oklahoma, Oldham, Onslow, Orange, Orleans, Osceola, Otero, Owyhee, Palm Beach, Parker, Pennington, Penobscot, Philadelphia, Pima, Pinal, Pinellas, Placer, Plaquemines, Platte, Polk, Portsmouth, Powhatan, Prince George, Prince George's, Prince William, Providence, Pulaski, Putnam, Queens, Ramsey, Randolph, Ray, Richland, Richmond, Riverside, Rock Island, Rockdale, Rockingham, Rogers, RÃ­o Grande, Sacramento, Saginaw, Salt Lake, San Bernardino, San Francisco, San Joaquin, San Juan, San Luis Obispo, San Mateo, Sangamon, Santa Clara, Santa Cruz, Santa Fe, Santa Rosa, Sarasota, Saratoga, Sarpy, Sedgwick, Sevier, Shasta, Shelby, Sheridan, Solano, Sonoma, Spartanburg, St. Clair, St. Lawrence, St. Louis, St. Lucie, St. Mary's, Stafford, Suffolk, Sumter, Tarrant, Texas, Tooele, Travis, Tulare, Tulsa, Twin Falls, Ulster, Unknown, Utah, Valencia, Ventura, Vigo, Virginia Beach, Volusia, Wake, Washington, Washoe, Washtenaw, Wayne, Wichita, Williams, Williamsburg, Williamson, Wilson, Wood, Yamhill, Yavapai, Yellowstone, Yolo, York, Yuba\n",
      "\n",
      "✅ County: Ada\n",
      "📈 Predicted EV Total (next time period): 2.00\n",
      "🔮 Predicted Percent Electric Vehicles: 0.01%\n",
      "🔍 Features used for prediction:\n",
      "\n",
      "months_since_start: 64\n",
      "county_encoded: 0\n",
      "ev_total_lag1: 2.0\n",
      "ev_total_lag2: 2.0\n",
      "ev_total_lag3: 2.0\n",
      "ev_total_roll_mean_3: 2.0\n",
      "ev_total_pct_change_1: 0.0\n",
      "ev_total_pct_change_3: 0.0\n",
      "ev_growth_slope: 1.9999999999999984\n"
     ]
    }
   ],
   "source": [
    "import pandas as pd\n",
    "import joblib\n",
    "model = joblib.load('random_forest_ev_model.pkl')\n",
    "feature_names = joblib.load('model_features.pkl')\n",
    "df = pd.read_csv('preprocessed_ev_data.csv')\n",
    "def get_latest_features_for_county(df, county_name):\n",
    "    df_county = df[df['County'].str.lower() == county_name.lower()]\n",
    "    \n",
    "    if df_county.empty:\n",
    "        raise ValueError(f\"❌ County '{county_name}' not found in training data.\")\n",
    "    \n",
    "    latest = df_county.sort_values('Date').iloc[-1]\n",
    "    \n",
    "    return {\n",
    "        'months_since_start': latest['months_since_start'] + 1,\n",
    "        'county_encoded': latest['county_encoded'],\n",
    "        'ev_total_lag1': latest['Electric Vehicle (EV) Total'],\n",
    "        'ev_total_lag2': latest['ev_total_lag1'],\n",
    "        'ev_total_lag3': latest['ev_total_lag2'],\n",
    "        'ev_total_roll_mean_3': latest['ev_total_roll_mean_3'],\n",
    "        'ev_total_pct_change_1': latest['ev_total_pct_change_1'],\n",
    "        'ev_total_pct_change_3': latest['ev_total_pct_change_3'],\n",
    "        'ev_growth_slope': latest['ev_growth_slope']\n",
    "    }\n",
    "available_counties = sorted(df['County'].unique())\n",
    "print(\"📍 Available Counties:\")\n",
    "print(\", \".join(available_counties))\n",
    "while True:\n",
    "    county = input(\"\\nEnter a county from the list above: \").strip()\n",
    "    if county.lower() in map(str.lower, available_counties):\n",
    "        break\n",
    "    else:\n",
    "        print(\"❌ Invalid county. Please type exactly as shown (case-insensitive).\")\n",
    "total_vehicles = int(input(\"Enter Total Vehicles in that county (for % calculation): \"))\n",
    "features = get_latest_features_for_county(df, county)\n",
    "X_input = pd.DataFrame([features])\n",
    "ev_total_pred = model.predict(X_input)[0]\n",
    "ev_percent_pred = (ev_total_pred / total_vehicles) * 100\n",
    "if ev_percent_pred < 0.01:\n",
    "  print(\"⚠️ Note: EV adoption prediction is very low. Consider checking recent trends or data quality.\")\n",
    "else:\n",
    "  print(f\"\\n✅ County: {county}\")\n",
    "  print(f\"📈 Predicted EV Total (next time period): {ev_total_pred:.2f}\")\n",
    "  print(f\"🔮 Predicted Percent Electric Vehicles: {ev_percent_pred:.2f}%\")\n",
    "county = county\n",
    "features = get_latest_features_for_county(df, county)\n",
    "print(\"🔍 Features used for prediction:\\n\")\n",
    "for k, v in features.items():\n",
    "    print(f\"{k}: {v}\")"
   ]
  },
  {
   "cell_type": "code",
   "execution_count": null,
   "id": "29e978eb",
   "metadata": {},
   "outputs": [],
   "source": []
  }
 ],
 "metadata": {
  "kernelspec": {
   "display_name": "Python 3",
   "language": "python",
   "name": "python3"
  },
  "language_info": {
   "codemirror_mode": {
    "name": "ipython",
    "version": 3
   },
   "file_extension": ".py",
   "mimetype": "text/x-python",
   "name": "python",
   "nbconvert_exporter": "python",
   "pygments_lexer": "ipython3",
   "version": "3.9.8"
  }
 },
 "nbformat": 4,
 "nbformat_minor": 5
}
